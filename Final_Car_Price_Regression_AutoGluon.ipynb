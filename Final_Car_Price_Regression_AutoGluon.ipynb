{
 "cells": [
  {
   "cell_type": "markdown",
   "id": "0d7ecf44",
   "metadata": {},
   "source": [
    "# 📊 Car Price Prediction using AutoGluon (Regression)\n",
    "In this notebook, we use the **AutoGluon** framework to predict the car price (numerical value) based on features like brand, year, mileage, engine size, etc.\n",
    "\n",
    "We treat this as a **regression problem**, where the target variable is the `Price` column."
   ]
  },
  {
   "cell_type": "markdown",
   "id": "5ed1af03",
   "metadata": {},
   "source": [
    "## 🔍 Data Dictionary\n",
    "- **Brand**: Car manufacturer name\n",
    "- **Model**: Specific model of the car\n",
    "- **Year**: Year of manufacture\n",
    "- **Engine_Size**: Size of the engine (liters)\n",
    "- **Fuel_Type**: Type of fuel used (Petrol/Diesel/EV)\n",
    "- **Transmission**: Gear system (Manual/Auto)\n",
    "- **Mileage**: Kilometers the car has traveled\n",
    "- **Doors**: Number of doors\n",
    "- **Owner_Count**: Number of previous owners\n",
    "- **Price**: 💰 Target variable (in dollars)"
   ]
  },
  {
   "cell_type": "code",
   "execution_count": 1,
   "id": "79c7a555",
   "metadata": {},
   "outputs": [],
   "source": [
    "import pandas as pd\n",
    "from autogluon.tabular import TabularPredictor"
   ]
  },
  {
   "cell_type": "code",
   "execution_count": 2,
   "id": "eb73da97",
   "metadata": {},
   "outputs": [
    {
     "data": {
      "text/html": [
       "<div>\n",
       "<style scoped>\n",
       "    .dataframe tbody tr th:only-of-type {\n",
       "        vertical-align: middle;\n",
       "    }\n",
       "\n",
       "    .dataframe tbody tr th {\n",
       "        vertical-align: top;\n",
       "    }\n",
       "\n",
       "    .dataframe thead th {\n",
       "        text-align: right;\n",
       "    }\n",
       "</style>\n",
       "<table border=\"1\" class=\"dataframe\">\n",
       "  <thead>\n",
       "    <tr style=\"text-align: right;\">\n",
       "      <th></th>\n",
       "      <th>Brand</th>\n",
       "      <th>Model</th>\n",
       "      <th>Year</th>\n",
       "      <th>Engine_Size</th>\n",
       "      <th>Fuel_Type</th>\n",
       "      <th>Transmission</th>\n",
       "      <th>Mileage</th>\n",
       "      <th>Doors</th>\n",
       "      <th>Owner_Count</th>\n",
       "      <th>Price</th>\n",
       "    </tr>\n",
       "  </thead>\n",
       "  <tbody>\n",
       "    <tr>\n",
       "      <th>0</th>\n",
       "      <td>Kia</td>\n",
       "      <td>Rio</td>\n",
       "      <td>2020</td>\n",
       "      <td>4.2</td>\n",
       "      <td>Diesel</td>\n",
       "      <td>Manual</td>\n",
       "      <td>289944</td>\n",
       "      <td>3</td>\n",
       "      <td>5</td>\n",
       "      <td>8501</td>\n",
       "    </tr>\n",
       "    <tr>\n",
       "      <th>1</th>\n",
       "      <td>Chevrolet</td>\n",
       "      <td>Malibu</td>\n",
       "      <td>2012</td>\n",
       "      <td>2.0</td>\n",
       "      <td>Hybrid</td>\n",
       "      <td>Automatic</td>\n",
       "      <td>5356</td>\n",
       "      <td>2</td>\n",
       "      <td>3</td>\n",
       "      <td>12092</td>\n",
       "    </tr>\n",
       "    <tr>\n",
       "      <th>2</th>\n",
       "      <td>Mercedes</td>\n",
       "      <td>GLA</td>\n",
       "      <td>2020</td>\n",
       "      <td>4.2</td>\n",
       "      <td>Diesel</td>\n",
       "      <td>Automatic</td>\n",
       "      <td>231440</td>\n",
       "      <td>4</td>\n",
       "      <td>2</td>\n",
       "      <td>11171</td>\n",
       "    </tr>\n",
       "    <tr>\n",
       "      <th>3</th>\n",
       "      <td>Audi</td>\n",
       "      <td>Q5</td>\n",
       "      <td>2023</td>\n",
       "      <td>2.0</td>\n",
       "      <td>Electric</td>\n",
       "      <td>Manual</td>\n",
       "      <td>160971</td>\n",
       "      <td>2</td>\n",
       "      <td>1</td>\n",
       "      <td>11780</td>\n",
       "    </tr>\n",
       "    <tr>\n",
       "      <th>4</th>\n",
       "      <td>Volkswagen</td>\n",
       "      <td>Golf</td>\n",
       "      <td>2003</td>\n",
       "      <td>2.6</td>\n",
       "      <td>Hybrid</td>\n",
       "      <td>Semi-Automatic</td>\n",
       "      <td>286618</td>\n",
       "      <td>3</td>\n",
       "      <td>3</td>\n",
       "      <td>2867</td>\n",
       "    </tr>\n",
       "  </tbody>\n",
       "</table>\n",
       "</div>"
      ],
      "text/plain": [
       "        Brand   Model  Year  Engine_Size Fuel_Type    Transmission  Mileage  \\\n",
       "0         Kia     Rio  2020          4.2    Diesel          Manual   289944   \n",
       "1   Chevrolet  Malibu  2012          2.0    Hybrid       Automatic     5356   \n",
       "2    Mercedes     GLA  2020          4.2    Diesel       Automatic   231440   \n",
       "3        Audi      Q5  2023          2.0  Electric          Manual   160971   \n",
       "4  Volkswagen    Golf  2003          2.6    Hybrid  Semi-Automatic   286618   \n",
       "\n",
       "   Doors  Owner_Count  Price  \n",
       "0      3            5   8501  \n",
       "1      2            3  12092  \n",
       "2      4            2  11171  \n",
       "3      2            1  11780  \n",
       "4      3            3   2867  "
      ]
     },
     "execution_count": 2,
     "metadata": {},
     "output_type": "execute_result"
    }
   ],
   "source": [
    "df = pd.read_csv('car_price_dataset.csv')\n",
    "df = df.dropna(subset=['Price'])\n",
    "df.head()"
   ]
  },
  {
   "cell_type": "code",
   "execution_count": 3,
   "id": "95b51460",
   "metadata": {},
   "outputs": [],
   "source": [
    "from sklearn.model_selection import train_test_split\n",
    "train_data, test_data = train_test_split(df, test_size=0.2, random_state=42)"
   ]
  },
  {
   "cell_type": "code",
   "execution_count": 4,
   "id": "680a2c24",
   "metadata": {},
   "outputs": [
    {
     "name": "stderr",
     "output_type": "stream",
     "text": [
      "No path specified. Models will be saved in: \"AutogluonModels\\ag-20250416_005409\"\n",
      "Verbosity: 2 (Standard Logging)\n",
      "=================== System Info ===================\n",
      "AutoGluon Version:  1.2\n",
      "Python Version:     3.11.11\n",
      "Operating System:   Windows\n",
      "Platform Machine:   AMD64\n",
      "Platform Version:   10.0.26100\n",
      "CPU Count:          22\n",
      "Memory Avail:       13.48 GB / 31.43 GB (42.9%)\n",
      "Disk Space Avail:   230.17 GB / 401.65 GB (57.3%)\n",
      "===================================================\n",
      "No presets specified! To achieve strong results with AutoGluon, it is recommended to use the available presets. Defaulting to `'medium'`...\n",
      "\tRecommended Presets (For more details refer to https://auto.gluon.ai/stable/tutorials/tabular/tabular-essentials.html#presets):\n",
      "\tpresets='experimental' : New in v1.2: Pre-trained foundation model + parallel fits. The absolute best accuracy without consideration for inference speed. Does not support GPU.\n",
      "\tpresets='best'         : Maximize accuracy. Recommended for most users. Use in competitions and benchmarks.\n",
      "\tpresets='high'         : Strong accuracy with fast inference speed.\n",
      "\tpresets='good'         : Good accuracy with very fast inference speed.\n",
      "\tpresets='medium'       : Fast training time, ideal for initial prototyping.\n",
      "Beginning AutoGluon training ... Time limit = 600s\n",
      "AutoGluon will save models to \"C:\\Users\\Mudit\\Downloads\\anaconda\\Data\\AutogluonModels\\ag-20250416_005409\"\n",
      "Train Data Rows:    8000\n",
      "Train Data Columns: 9\n",
      "Label Column:       Price\n",
      "Problem Type:       regression\n",
      "Preprocessing data ...\n",
      "Using Feature Generators to preprocess the data ...\n",
      "Fitting AutoMLPipelineFeatureGenerator...\n",
      "\tAvailable Memory:                    13804.39 MB\n",
      "\tTrain Data (Original)  Memory Usage: 2.26 MB (0.0% of available memory)\n",
      "\tInferring data type of each feature based on column values. Set feature_metadata_in to manually specify special dtypes of the features.\n",
      "\tStage 1 Generators:\n",
      "\t\tFitting AsTypeFeatureGenerator...\n",
      "\tStage 2 Generators:\n",
      "\t\tFitting FillNaFeatureGenerator...\n",
      "\tStage 3 Generators:\n",
      "\t\tFitting IdentityFeatureGenerator...\n",
      "\t\tFitting CategoryFeatureGenerator...\n",
      "\t\t\tFitting CategoryMemoryMinimizeFeatureGenerator...\n",
      "\tStage 4 Generators:\n",
      "\t\tFitting DropUniqueFeatureGenerator...\n",
      "\tStage 5 Generators:\n",
      "\t\tFitting DropDuplicatesFeatureGenerator...\n",
      "\tTypes of features in original data (raw dtype, special dtypes):\n",
      "\t\t('float', [])  : 1 | ['Engine_Size']\n",
      "\t\t('int', [])    : 4 | ['Year', 'Mileage', 'Doors', 'Owner_Count']\n",
      "\t\t('object', []) : 4 | ['Brand', 'Model', 'Fuel_Type', 'Transmission']\n",
      "\tTypes of features in processed data (raw dtype, special dtypes):\n",
      "\t\t('category', []) : 4 | ['Brand', 'Model', 'Fuel_Type', 'Transmission']\n",
      "\t\t('float', [])    : 1 | ['Engine_Size']\n",
      "\t\t('int', [])      : 4 | ['Year', 'Mileage', 'Doors', 'Owner_Count']\n",
      "\t0.2s = Fit runtime\n",
      "\t9 features in original data used to generate 9 features in processed data.\n",
      "\tTrain Data (Processed) Memory Usage: 0.34 MB (0.0% of available memory)\n",
      "Data preprocessing and feature engineering runtime = 0.29s ...\n",
      "AutoGluon will gauge predictive performance using evaluation metric: 'r2'\n",
      "\tTo change this, specify the eval_metric parameter of Predictor()\n",
      "Automatically generating train/validation split with holdout_frac=0.1, Train Rows: 7200, Val Rows: 800\n",
      "User-specified model hyperparameters to be fit:\n",
      "{\n",
      "\t'NN_TORCH': [{}],\n",
      "\t'GBM': [{'extra_trees': True, 'ag_args': {'name_suffix': 'XT'}}, {}, {'learning_rate': 0.03, 'num_leaves': 128, 'feature_fraction': 0.9, 'min_data_in_leaf': 3, 'ag_args': {'name_suffix': 'Large', 'priority': 0, 'hyperparameter_tune_kwargs': None}}],\n",
      "\t'CAT': [{}],\n",
      "\t'XGB': [{}],\n",
      "\t'FASTAI': [{}],\n",
      "\t'RF': [{'criterion': 'gini', 'ag_args': {'name_suffix': 'Gini', 'problem_types': ['binary', 'multiclass']}}, {'criterion': 'entropy', 'ag_args': {'name_suffix': 'Entr', 'problem_types': ['binary', 'multiclass']}}, {'criterion': 'squared_error', 'ag_args': {'name_suffix': 'MSE', 'problem_types': ['regression', 'quantile']}}],\n",
      "\t'XT': [{'criterion': 'gini', 'ag_args': {'name_suffix': 'Gini', 'problem_types': ['binary', 'multiclass']}}, {'criterion': 'entropy', 'ag_args': {'name_suffix': 'Entr', 'problem_types': ['binary', 'multiclass']}}, {'criterion': 'squared_error', 'ag_args': {'name_suffix': 'MSE', 'problem_types': ['regression', 'quantile']}}],\n",
      "\t'KNN': [{'weights': 'uniform', 'ag_args': {'name_suffix': 'Unif'}}, {'weights': 'distance', 'ag_args': {'name_suffix': 'Dist'}}],\n",
      "}\n",
      "Fitting 11 L1 models, fit_strategy=\"sequential\" ...\n",
      "Fitting model: KNeighborsUnif ... Training model for up to 599.71s of the 599.71s of remaining time.\n",
      "\t0.1288\t = Validation score   (r2)\n",
      "\t7.5s\t = Training   runtime\n",
      "\t0.06s\t = Validation runtime\n",
      "Fitting model: KNeighborsDist ... Training model for up to 592.14s of the 592.13s of remaining time.\n",
      "\t0.1291\t = Validation score   (r2)\n",
      "\t0.02s\t = Training   runtime\n",
      "\t0.04s\t = Validation runtime\n",
      "Fitting model: LightGBMXT ... Training model for up to 592.06s of the 592.05s of remaining time.\n"
     ]
    },
    {
     "name": "stdout",
     "output_type": "stream",
     "text": [
      "[1000]\tvalid_set's l2: 16442.4\tvalid_set's r2: 0.998357\n",
      "[2000]\tvalid_set's l2: 14447.6\tvalid_set's r2: 0.998556\n",
      "[3000]\tvalid_set's l2: 13975.6\tvalid_set's r2: 0.998603\n",
      "[4000]\tvalid_set's l2: 13776.5\tvalid_set's r2: 0.998623\n",
      "[5000]\tvalid_set's l2: 13611.6\tvalid_set's r2: 0.99864\n",
      "[6000]\tvalid_set's l2: 13578.2\tvalid_set's r2: 0.998643\n",
      "[7000]\tvalid_set's l2: 13547.8\tvalid_set's r2: 0.998646\n",
      "[8000]\tvalid_set's l2: 13538.2\tvalid_set's r2: 0.998647\n",
      "[9000]\tvalid_set's l2: 13520.2\tvalid_set's r2: 0.998649\n",
      "[10000]\tvalid_set's l2: 13499.8\tvalid_set's r2: 0.998651\n"
     ]
    },
    {
     "name": "stderr",
     "output_type": "stream",
     "text": [
      "\t0.9987\t = Validation score   (r2)\n",
      "\t105.47s\t = Training   runtime\n",
      "\t0.28s\t = Validation runtime\n",
      "Fitting model: LightGBM ... Training model for up to 484.37s of the 484.37s of remaining time.\n"
     ]
    },
    {
     "name": "stdout",
     "output_type": "stream",
     "text": [
      "[1000]\tvalid_set's l2: 18589.6\tvalid_set's r2: 0.998142\n",
      "[2000]\tvalid_set's l2: 17619.9\tvalid_set's r2: 0.998239\n",
      "[3000]\tvalid_set's l2: 17237.6\tvalid_set's r2: 0.998277\n",
      "[4000]\tvalid_set's l2: 17142.4\tvalid_set's r2: 0.998287\n",
      "[5000]\tvalid_set's l2: 17082.3\tvalid_set's r2: 0.998293\n",
      "[6000]\tvalid_set's l2: 17035.6\tvalid_set's r2: 0.998297\n",
      "[7000]\tvalid_set's l2: 17027.5\tvalid_set's r2: 0.998298\n",
      "[8000]\tvalid_set's l2: 17010.4\tvalid_set's r2: 0.9983\n",
      "[9000]\tvalid_set's l2: 17001.8\tvalid_set's r2: 0.998301\n",
      "[10000]\tvalid_set's l2: 16994.6\tvalid_set's r2: 0.998302\n"
     ]
    },
    {
     "name": "stderr",
     "output_type": "stream",
     "text": [
      "\t0.9983\t = Validation score   (r2)\n",
      "\t70.96s\t = Training   runtime\n",
      "\t0.2s\t = Validation runtime\n",
      "Fitting model: RandomForestMSE ... Training model for up to 411.29s of the 411.29s of remaining time.\n",
      "\t0.9749\t = Validation score   (r2)\n",
      "\t2.4s\t = Training   runtime\n",
      "\t0.16s\t = Validation runtime\n",
      "Fitting model: CatBoost ... Training model for up to 408.31s of the 408.31s of remaining time.\n",
      "\tRan out of time, early stopping on iteration 2482.\n",
      "\t0.9998\t = Validation score   (r2)\n",
      "\t408.26s\t = Training   runtime\n",
      "\t0.02s\t = Validation runtime\n",
      "Fitting model: WeightedEnsemble_L2 ... Training model for up to 360.00s of the -0.09s of remaining time.\n",
      "\tEnsemble Weights: {'CatBoost': 0.929, 'LightGBMXT': 0.071}\n",
      "\t0.9998\t = Validation score   (r2)\n",
      "\t0.15s\t = Training   runtime\n",
      "\t0.0s\t = Validation runtime\n",
      "AutoGluon training complete, total runtime = 600.33s ... Best model: WeightedEnsemble_L2 | Estimated inference throughput: 2725.6 rows/s (800 batch size)\n",
      "TabularPredictor saved. To load, use: predictor = TabularPredictor.load(\"C:\\Users\\Mudit\\Downloads\\anaconda\\Data\\AutogluonModels\\ag-20250416_005409\")\n"
     ]
    },
    {
     "data": {
      "text/plain": [
       "<autogluon.tabular.predictor.predictor.TabularPredictor at 0x1af071ad0d0>"
      ]
     },
     "execution_count": 4,
     "metadata": {},
     "output_type": "execute_result"
    }
   ],
   "source": [
    "predictor = TabularPredictor(label='Price', problem_type='regression', eval_metric='r2')\n",
    "predictor.fit(train_data, time_limit=600)"
   ]
  },
  {
   "cell_type": "code",
   "execution_count": 5,
   "id": "e1eb64fb",
   "metadata": {},
   "outputs": [
    {
     "data": {
      "text/plain": [
       "{'r2': 0.999834205450661,\n",
       " 'root_mean_squared_error': -39.02933672084759,\n",
       " 'mean_squared_error': -1523.289124869302,\n",
       " 'mean_absolute_error': -23.7973583984375,\n",
       " 'pearsonr': 0.99991739613012,\n",
       " 'median_absolute_error': -17.32568359375}"
      ]
     },
     "execution_count": 5,
     "metadata": {},
     "output_type": "execute_result"
    }
   ],
   "source": [
    "predictor.evaluate(test_data)"
   ]
  },
  {
   "cell_type": "markdown",
   "id": "77571f7c",
   "metadata": {},
   "source": [
    "## ✅ Conclusion Summary\n",
    "- The regression model using AutoGluon was able to predict car prices based on various vehicle features.\n",
    "- **R² Score** and other metrics indicate how well the model explains the variance in car pricing.\n",
    "- Further improvement can be achieved by hyperparameter tuning or feature engineering."
   ]
  }
 ],
 "metadata": {
  "kernelspec": {
   "display_name": "Python 3 (ipykernel)",
   "language": "python",
   "name": "python3"
  },
  "language_info": {
   "codemirror_mode": {
    "name": "ipython",
    "version": 3
   },
   "file_extension": ".py",
   "mimetype": "text/x-python",
   "name": "python",
   "nbconvert_exporter": "python",
   "pygments_lexer": "ipython3",
   "version": "3.11.11"
  }
 },
 "nbformat": 4,
 "nbformat_minor": 5
}
